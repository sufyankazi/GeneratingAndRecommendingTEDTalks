{
 "cells": [
  {
   "cell_type": "code",
   "execution_count": 25,
   "metadata": {
    "collapsed": true
   },
   "outputs": [],
   "source": [
    "from selenium import webdriver\n",
    "import requests\n",
    "import pickle\n",
    "import time\n",
    "from selenium.webdriver.common.action_chains import ActionChains\n",
    "from selenium.webdriver.common.keys import Keys\n"
   ]
  },
  {
   "cell_type": "code",
   "execution_count": null,
   "metadata": {},
   "outputs": [],
   "source": [
    "ChannelURL='https://www.youtube.com/user/TEDxTalks/videos'\n",
    "   \n",
    "browser=webdriver.Chrome('/home/sufyan/Metis/Week7/chromedriver')\n",
    "browser.get(ChannelURL)\n",
    "\n",
    "# while True:\n",
    "eula = browser.find_element_by_xpath('//*[@id=\"page-manager\"]/ytd-browse')\n",
    "# selectAll = Keys.chord(Keys.END, Keys.CONTROL)\n",
    "\n",
    "p=''\n",
    "while '8 years' not in p:\n",
    "    browser.find_element_by_xpath('/html/body').send_keys(Keys.END, Keys.CONTROL)\n",
    "    time.sleep(1)\n",
    "    p=browser.find_element_by_xpath('//*[@id=\"items\"]/ytd-grid-video-renderer[last()]').text\n",
    "with open(\"TEDxEntirePage.html\", \"w\") as f:\n",
    "    f.write(driver.page_source)"
   ]
  },
  {
   "cell_type": "code",
   "execution_count": 51,
   "metadata": {},
   "outputs": [
    {
     "data": {
      "text/plain": [
       "True"
      ]
     },
     "execution_count": 51,
     "metadata": {},
     "output_type": "execute_result"
    }
   ],
   "source": [
    "ChannelURL='https://www.youtube.com/user/TEDtalksDirector/videos'\n",
    "   \n",
    "browser=webdriver.Chrome('/home/sufyan/Metis/Week7/chromedriver')\n",
    "browser.get(ChannelURL)\n",
    "\n",
    "# while True:\n",
    "eula = browser.find_element_by_xpath('//*[@id=\"page-manager\"]/ytd-browse')\n",
    "# selectAll = Keys.chord(Keys.END, Keys.CONTROL)\n",
    "\n",
    "p=''\n",
    "while '10 years' not in p:\n",
    "    browser.find_element_by_xpath('/html/body').send_keys(Keys.END, Keys.CONTROL)\n",
    "    time.sleep(1)\n",
    "    p=browser.find_element_by_xpath('//*[@id=\"items\"]/ytd-grid-video-renderer[last()]').text\n",
    "with open(\"TEDEntirePage.html\", \"w\") as f:\n",
    "    f.write(driver.page_source)"
   ]
  }
 ],
 "metadata": {
  "kernelspec": {
   "display_name": "Python 3",
   "language": "python",
   "name": "python3"
  },
  "language_info": {
   "codemirror_mode": {
    "name": "ipython",
    "version": 3
   },
   "file_extension": ".py",
   "mimetype": "text/x-python",
   "name": "python",
   "nbconvert_exporter": "python",
   "pygments_lexer": "ipython3",
   "version": "3.6.1"
  }
 },
 "nbformat": 4,
 "nbformat_minor": 2
}
